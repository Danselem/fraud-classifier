{
 "cells": [
  {
   "cell_type": "code",
   "execution_count": 3,
   "id": "c79c7617",
   "metadata": {},
   "outputs": [],
   "source": [
    "import numpy as np \n",
    "import pandas as pd \n",
    "import datasist as ds\n",
    "import datasist.project as dp\n",
    "import matplotlib.pyplot as plt\n",
    "import seaborn as sns\n",
    "\n",
    "from sklearn.ensemble import RandomForestClassifier\n",
    "from sklearn.linear_model import LogisticRegression\n",
    "from sklearn.metrics import f1_score\n",
    "from sklearn.model_selection import cross_val_score, train_test_split"
   ]
  },
  {
   "cell_type": "code",
   "execution_count": 4,
   "id": "b756557f",
   "metadata": {},
   "outputs": [],
   "source": [
    "#retrieve data from the processed folder\n",
    "train = dp.get_data(\"train_proc.csv\", method='csv')\n",
    "test = dp.get_data(\"test_proc.csv\", method='csv')\n",
    "labels = dp.get_data(\"train_labels.csv\", method='csv')"
   ]
  },
  {
   "cell_type": "code",
   "execution_count": null,
   "id": "fba0f419",
   "metadata": {},
   "outputs": [],
   "source": [
    "X_train, X_test, y_train, y_test = train_test_split(train, labels, test_size=0.3, random_state=2)\n",
    "\n",
    "rf_model = RandomForestClassifier(n_estimators=100,random_state=232)\n",
    "lg_model = LogisticRegression(max_iter=100, random_state=2, solver='lbfgs')"
   ]
  },
  {
   "cell_type": "code",
   "execution_count": null,
   "id": "9a75176d",
   "metadata": {},
   "outputs": [],
   "source": [
    "lg_model.fit(X_train, y_train, )\n",
    "pred = lg_model.predict(X_test)\n",
    "\n",
    "#Get report from true and predicted values\n",
    "ds.model.get_classification_report(y_test, pred)"
   ]
  },
  {
   "cell_type": "code",
   "execution_count": null,
   "id": "c4b04110",
   "metadata": {},
   "outputs": [],
   "source": [
    "rf_model.fit(X_train, y_train)\n",
    "pred = rf_model.predict(X_test)\n",
    "\n",
    "#Get report from true and predicted values\n",
    "ds.model.get_classification_report(y_test, pred)"
   ]
  },
  {
   "cell_type": "code",
   "execution_count": null,
   "id": "30c25a57",
   "metadata": {},
   "outputs": [],
   "source": [
    "ds.model.train_classifier(train_data=train, target=target, model=rf_model,\n",
    "                                                     cross_validate=True, cv=3)"
   ]
  },
  {
   "cell_type": "code",
   "execution_count": null,
   "id": "ede92390",
   "metadata": {},
   "outputs": [],
   "source": [
    "feats = train.columns\n",
    "ds.model.plot_feature_importance(estimator=rf_model, col_names=feats)"
   ]
  },
  {
   "cell_type": "code",
   "execution_count": null,
   "id": "d45c9cee",
   "metadata": {},
   "outputs": [],
   "source": []
  }
 ],
 "metadata": {
  "jupytext": {
   "formats": "ipynb,../scripts/modeling//py"
  },
  "kernelspec": {
   "display_name": "Python 3.8.0 ('fraud-class')",
   "language": "python",
   "name": "python380jvsc74a57bd03cd04a71416ab130df52c6ad253f6c01cfe1f5da6ec3d93fcc0cee3c0dbab0b4"
  },
  "language_info": {
   "codemirror_mode": {
    "name": "ipython",
    "version": 3
   },
   "file_extension": ".py",
   "mimetype": "text/x-python",
   "name": "python",
   "nbconvert_exporter": "python",
   "pygments_lexer": "ipython3",
   "version": "3.8.0"
  }
 },
 "nbformat": 4,
 "nbformat_minor": 5
}
